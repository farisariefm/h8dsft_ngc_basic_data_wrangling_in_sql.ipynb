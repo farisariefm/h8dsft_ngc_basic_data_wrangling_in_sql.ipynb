{
 "cells": [
  {
   "cell_type": "markdown",
   "metadata": {},
   "source": [
    "===================================================================\n",
    "Non Graded Challenge - 5 \n",
    "\n",
    "Name : Faris Arief Mawardi\n",
    "\n",
    "Batch : HCK 009\n",
    "\n",
    "This program was made to generate 2 tables based on customers and orders datas which will generate 1 new table to obtain information regarding total orders of the customers.\n",
    "\n",
    "==================================================================="
   ]
  },
  {
   "cell_type": "markdown",
   "metadata": {},
   "source": [
    "Task Objective :\n",
    "\n",
    "This Non Graded Challenge was created to evaluate the concept of Data Wrangling in SQL  with the aim of:\n",
    "\n",
    "1.Able to perform Data Definition Language (DDL) to create a table based on the information obtained.\n",
    "\n",
    "2.Able to use the SELECT, FROM, JOIN and GROUP BY keywords to get data from a certain column.3\n"
   ]
  },
  {
   "cell_type": "markdown",
   "metadata": {},
   "source": [
    "Task :\n",
    "\n",
    "1. create a customer and order table as follows \"Customers\" and \"Orders\". Determine the right datatype to create the two tables. Here are the structures and data for both tables.\n",
    "\n",
    "2. Once you have successfully created both tables, create a query to retrieve the total number of orders made by each customer along with the customer name from the \"Customers\" and \"Orders\" tables.\n"
   ]
  },
  {
   "cell_type": "code",
   "execution_count": null,
   "metadata": {},
   "outputs": [],
   "source": [
    "create table customers (\n",
    "customer_id int primary key,\n",
    "customer_name varchar NOT NULL,\n",
    "city varchar);\n",
    "\n",
    "# (generating a new table named customers)\n",
    "\n",
    "\n",
    "create table orders (\n",
    "order_id serial primary key,\n",
    "customer_id int,\n",
    "order_date date,\n",
    "total_amount numeric (6,2),\n",
    "constraint fk_customer_id\n",
    "FOREIGN KEY(customer_id)\n",
    "references customers (customer_id) )\n",
    "\n",
    "# (generating a new table named orders with a foreign key of customer_id obtained from table \"customers\" in customer_id column )\n",
    "\n",
    "INSERT INTO customers (customer_id, customer_name, city)\n",
    "values \n",
    "(1, 'John Doe', 'New York'),\n",
    "(2, 'Jane Smith', 'Los Angeles'),\n",
    "(3, 'David Johnson', 'Chicago');\n",
    "\n",
    "#input data to \"customers\" table\n",
    "\n",
    "INSERT INTO orders (order_id, customer_id, order_date, total_amount)\n",
    "VALUES \n",
    "(1, 1, '2022/01/10', 100.00),\n",
    "(2, 1, '2022/02/15', 150.00),\n",
    "(3, 2, '2022/03/20', 200.00),\n",
    "(4, 3, '2022/04/25', 50.00);\n",
    "\n",
    "#input data to \"orders\" table\n",
    "\n",
    "select customer_name, count(order_id) as total_orders from customers c\n",
    "left join orders o on c.customer_id = o.customer_id\n",
    "group  by c.customer_name\n",
    "order by c.customer_name desc\n",
    "#joining datas consists of customer name from table \"customers\" and generating new column named \"total orders\" which was obtained by count the order id from table \"orders\"\n"
   ]
  }
 ],
 "metadata": {
  "language_info": {
   "name": "python"
  },
  "orig_nbformat": 4
 },
 "nbformat": 4,
 "nbformat_minor": 2
}
